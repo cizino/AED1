{
 "cells": [
  {
   "cell_type": "code",
   "execution_count": 7,
   "id": "dc01ea10-94d4-4a94-87ed-b113aefb9859",
   "metadata": {},
   "outputs": [
    {
     "name": "stdin",
     "output_type": "stream",
     "text": [
      "Digite a sua idade:  23\n"
     ]
    }
   ],
   "source": [
    "idade = int ( input(\"Digite a sua idade: \"))"
   ]
  },
  {
   "cell_type": "code",
   "execution_count": 9,
   "id": "99da953f-3dd5-497f-a9ba-5ddf2ff6d213",
   "metadata": {},
   "outputs": [
    {
     "data": {
      "text/plain": [
       "int"
      ]
     },
     "execution_count": 9,
     "metadata": {},
     "output_type": "execute_result"
    }
   ],
   "source": [
    "type (idade)"
   ]
  },
  {
   "cell_type": "code",
   "execution_count": 11,
   "id": "5b1c6c92-b63d-423c-981a-fabaf4258512",
   "metadata": {},
   "outputs": [
    {
     "name": "stdout",
     "output_type": "stream",
     "text": [
      "você já é maior de idade!\n",
      "Fim!\n"
     ]
    }
   ],
   "source": [
    "if idade >= 18:\n",
    "    print (\"você já é maior de idade!\")\n",
    "else: \n",
    "    print (\"espere mais um pouco!\")\n",
    "print (\"Fim!\")\n"
   ]
  },
  {
   "cell_type": "code",
   "execution_count": 19,
   "id": "e6cc5205-670b-4864-8154-0a0ead487620",
   "metadata": {},
   "outputs": [
    {
     "name": "stdin",
     "output_type": "stream",
     "text": [
      "Digite a nota 1: 6\n",
      "Digite a nota 2: 7.5\n"
     ]
    },
    {
     "name": "stdout",
     "output_type": "stream",
     "text": [
      "A média foi:  6.75\n",
      "6 é 10 meu querido!\n"
     ]
    }
   ],
   "source": [
    "nota1 = float (input(\"Digite a nota 1:\"))\n",
    "nota2 = float (input(\"Digite a nota 2:\"))\n",
    "media = (nota1 + nota2) / 2 \n",
    "print (\"A média foi: \", media)\n",
    "\n",
    "if media >= 6:\n",
    "    print (\"6 é 10 meu querido!\")\n",
    "else:\n",
    "    print (\"Vasco da Gama\")"
   ]
  },
  {
   "cell_type": "code",
   "execution_count": 21,
   "id": "b2024cd2-7c39-4222-89b5-57f277f300cd",
   "metadata": {},
   "outputs": [
    {
     "name": "stdin",
     "output_type": "stream",
     "text": [
      "Digite um número:  19\n"
     ]
    },
    {
     "name": "stdout",
     "output_type": "stream",
     "text": [
      "O número é positivo!\n",
      "Fim!\n"
     ]
    }
   ],
   "source": [
    "numero = int(input (\"Digite um número: \"))\n",
    "if numero >= 0:\n",
    "    print(\"O número é positivo!\")\n",
    "print(\"Fim!\")"
   ]
  },
  {
   "cell_type": "code",
   "execution_count": null,
   "id": "c7d0ad56-dc73-4af1-8283-3af9ab1b865c",
   "metadata": {},
   "outputs": [],
   "source": [
    "numero1 = float (input(\"Digite número 1: \"))\n",
    "numero2 = float (input(\"Digite numero 2: \"))\n",
    "\n",
    "if numero1 > numero2:\n",
    "    print (\"deu certo mane\")\n",
    "else:\n",
    "    print (\"deu certo mane\")   \n",
    "\n"
   ]
  },
  {
   "cell_type": "code",
   "execution_count": 1,
   "id": "46f0b653-9b48-4d19-8cd5-d80b01eff19b",
   "metadata": {},
   "outputs": [
    {
     "name": "stdin",
     "output_type": "stream",
     "text": [
      "Digite uma letra:  A\n"
     ]
    },
    {
     "name": "stdout",
     "output_type": "stream",
     "text": [
      "A letra digitada é uma vogal!\n"
     ]
    }
   ],
   "source": [
    "letra = input(\"Digite uma letra: \")\n",
    "if letra == \"a\" or letra == \"A\":\n",
    "    print(\"A letra digitada é uma vogal!\")\n",
    "elif letra == \"e\" or letra == \"E\":\n",
    "    print (\"A letra digitada é uma vogal!\")\n",
    "elif letra == \"i\" or letra == \"I\":\n",
    "    print (\"A letra digitada é uma vogal!\")\n",
    "elif letra == \"o\" or letra == \"O\":\n",
    "    print (\"A letra digitada é uma vogal!\")\n",
    "elif letra == \"u\" or letra == \"U\":\n",
    "    print (\"A letra digitada é uma vogal!\")\n",
    "else:\n",
    "    print (\"A letra digitada é uma consoante!\")\n",
    "    "
   ]
  },
  {
   "cell_type": "code",
   "execution_count": 12,
   "id": "4fdef484-82c8-4bcc-bbea-3a7fbdaa0ec3",
   "metadata": {},
   "outputs": [
    {
     "name": "stdin",
     "output_type": "stream",
     "text": [
      " Entre com um número: 4\n"
     ]
    },
    {
     "name": "stdout",
     "output_type": "stream",
     "text": [
      "4 é par positivo!\n"
     ]
    }
   ],
   "source": [
    "n = int(input( \" Entre com um número:\"))\n",
    "if (n >= 0):\n",
    "     if (n % 2) == 0:\n",
    "         print (n, \"é par positivo!\") \n",
    "     else:\n",
    "         print (n, \" é impar positivo!\")\n",
    "else:\n",
    "     if (abs(n) % 2) == 0:\n",
    "         print(n, \" é par negativo!\")\n",
    "     else:\n",
    "         print(n, \" é impar negativo!\")"
   ]
  },
  {
   "cell_type": "code",
   "execution_count": 14,
   "id": "588a8997-bd8c-481b-ac3e-9128b64dfcef",
   "metadata": {},
   "outputs": [
    {
     "name": "stdin",
     "output_type": "stream",
     "text": [
      "Digite a idade do nadador:  70\n"
     ]
    },
    {
     "name": "stdout",
     "output_type": "stream",
     "text": [
      "Categoria Senior!\n"
     ]
    }
   ],
   "source": [
    "idade = int(input (\"Digite a idade do nadador: \"))\n",
    "if idade < 5:\n",
    "    print (\"Categoria inexistente!\")\n",
    "elif idade <= 7:\n",
    "    print (\"Categoria Infantil!\")\n",
    "elif idade <= 10:\n",
    "    print (\"Categoria Juvenil!\")\n",
    "elif idade <= 15:\n",
    "    print (\"Categoria Adolescente!\")\n",
    "elif idade <= 30:\n",
    "    print (\"Categoria Adulto!\")\n",
    "else:\n",
    "    print(\"Categoria Senior!\")"
   ]
  },
  {
   "cell_type": "code",
   "execution_count": null,
   "id": "09e31a88-9aac-4c0a-8771-3e55a1ac0782",
   "metadata": {},
   "outputs": [],
   "source": []
  }
 ],
 "metadata": {
  "kernelspec": {
   "display_name": "Python [conda env:base] *",
   "language": "python",
   "name": "conda-base-py"
  },
  "language_info": {
   "codemirror_mode": {
    "name": "ipython",
    "version": 3
   },
   "file_extension": ".py",
   "mimetype": "text/x-python",
   "name": "python",
   "nbconvert_exporter": "python",
   "pygments_lexer": "ipython3",
   "version": "3.12.7"
  }
 },
 "nbformat": 4,
 "nbformat_minor": 5
}
